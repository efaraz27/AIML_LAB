{
 "cells": [
  {
   "cell_type": "code",
   "execution_count": 13,
   "metadata": {},
   "outputs": [],
   "source": [
    "import numpy as np\n",
    "import pandas as pd"
   ]
  },
  {
   "cell_type": "code",
   "execution_count": 14,
   "metadata": {},
   "outputs": [],
   "source": [
    "from random import randint"
   ]
  },
  {
   "cell_type": "code",
   "execution_count": 15,
   "metadata": {},
   "outputs": [],
   "source": [
    "def reg_fun(x):\n",
    "    return 7*x-3"
   ]
  },
  {
   "cell_type": "code",
   "execution_count": 16,
   "metadata": {},
   "outputs": [
    {
     "name": "stdout",
     "output_type": "stream",
     "text": [
      "10 67\n",
      "14 95\n",
      "17 116\n",
      "16 109\n",
      "3 18\n"
     ]
    }
   ],
   "source": [
    "x = []\n",
    "y = []\n",
    "for _ in range(5):\n",
    "    t = randint(0,20)\n",
    "    print(t,reg_fun(t))\n",
    "    x.append(t)\n",
    "    y.append(reg_fun(t) + randint(-10,10))"
   ]
  },
  {
   "cell_type": "code",
   "execution_count": 17,
   "metadata": {},
   "outputs": [],
   "source": [
    "from matplotlib import pyplot as plt\n",
    "%matplotlib inline"
   ]
  },
  {
   "cell_type": "code",
   "execution_count": 18,
   "metadata": {},
   "outputs": [
    {
     "data": {
      "image/png": "[encoded data removed]",
      "text/plain": [
       "<Figure size 432x288 with 1 Axes>"
      ]
     },
     "metadata": {
      "needs_background": "light"
     },
     "output_type": "display_data"
    }
   ],
   "source": [
    "plt.plot(x,[reg_fun(i) for i in x],color='green',label='True Distribution')\n",
    "plt.scatter(x,y,color='blue',label='Target')\n",
    "plt.legend()\n",
    "plt.show()"
   ]
  },
  {
   "cell_type": "code",
   "execution_count": 19,
   "metadata": {},
   "outputs": [
    {
     "name": "stdout",
     "output_type": "stream",
     "text": [
      "4.0 45.6\n",
      "4.0 34.4\n",
      "25.0 206.0\n",
      "16.0 120.8\n",
      "81.0 592.2\n"
     ]
    }
   ],
   "source": [
    "xbar = np.mean(x)\n",
    "ybar = np.mean(y)\n",
    "d = 0\n",
    "n = 0\n",
    "for i in range(5):\n",
    "    d += (x[i]-xbar)**2\n",
    "    n += (x[i]-xbar)*(y[i]-ybar)\n",
    "    print(np.round((x[i]-xbar)**2,2),np.round((x[i]-xbar)*(y[i]-ybar),2))\n",
    "w1 = n/d    \n",
    "w0 = ybar - w1*xbar"
   ]
  },
  {
   "cell_type": "code",
   "execution_count": 20,
   "metadata": {},
   "outputs": [
    {
     "name": "stdout",
     "output_type": "stream",
     "text": [
      "xbar :  12.0 ybar :  84.8 w0 :  -7.415384615384625 w1 :  7.684615384615385\n"
     ]
    }
   ],
   "source": [
    "print('xbar : ',xbar,'ybar : ',ybar,'w0 : ',w0,'w1 : ',w1)"
   ]
  },
  {
   "cell_type": "code",
   "execution_count": 21,
   "metadata": {},
   "outputs": [
    {
     "name": "stdout",
     "output_type": "stream",
     "text": [
      "n :  999.0 d :  130.0\n"
     ]
    }
   ],
   "source": [
    "print('n : ',n,'d : ',d)"
   ]
  },
  {
   "cell_type": "code",
   "execution_count": 22,
   "metadata": {},
   "outputs": [],
   "source": [
    "def model(w0,w1,x):\n",
    "    return w0 + w1*x"
   ]
  },
  {
   "cell_type": "code",
   "execution_count": 23,
   "metadata": {},
   "outputs": [
    {
     "data": {
      "image/png": "[encoded data removed]",
      "text/plain": [
       "<Figure size 432x288 with 1 Axes>"
      ]
     },
     "metadata": {
      "needs_background": "light"
     },
     "output_type": "display_data"
    }
   ],
   "source": [
    "plt.plot(x,[model(w0,w1,i) for i in x],color='red',label='Predicted')\n",
    "plt.scatter(x,y,color='blue',label='Target')\n",
    "plt.legend()\n",
    "plt.show()"
   ]
  },
  {
   "cell_type": "code",
   "execution_count": null,
   "metadata": {},
   "outputs": [],
   "source": []
  }
 ],
 "metadata": {
  "kernelspec": {
   "display_name": "Python 3.9.7 ('base')",
   "language": "python",
   "name": "python3"
  },
  "language_info": {
   "codemirror_mode": {
    "name": "ipython",
    "version": 3
   },
   "file_extension": ".py",
   "mimetype": "text/x-python",
   "name": "python",
   "nbconvert_exporter": "python",
   "pygments_lexer": "ipython3",
   "version": "3.9.7"
  },
  "orig_nbformat": 4,
  "vscode": {
   "interpreter": {
    "hash": "88279d2366fe020547cde40dd65aa0e3aa662a6ec1f3ca12d88834876c85e1a6"
   }
  }
 },
 "nbformat": 4,
 "nbformat_minor": 2
}
